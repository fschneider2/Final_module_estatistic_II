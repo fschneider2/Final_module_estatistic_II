{
  "nbformat": 4,
  "nbformat_minor": 0,
  "metadata": {
    "colab": {
      "provenance": [],
      "collapsed_sections": [],
      "mount_file_id": "1TSjsqVuHXAcnyB0kijwLPM4hCLuZz4cL",
      "authorship_tag": "ABX9TyMdH/pPy+2sXetJVZwwZDgK",
      "include_colab_link": true
    },
    "kernelspec": {
      "name": "python3",
      "display_name": "Python 3"
    },
    "language_info": {
      "name": "python"
    }
  },
  "cells": [
    {
      "cell_type": "markdown",
      "metadata": {
        "id": "view-in-github",
        "colab_type": "text"
      },
      "source": [
        "<a href=\"https://colab.research.google.com/github/fschneider2/Final_module_estatistic_II/blob/main/Final_MATEM%C3%81TICA_E_ESTAT%C3%8DSTICA_II_Fernando_Schneider.ipynb\" target=\"_parent\"><img src=\"https://colab.research.google.com/assets/colab-badge.svg\" alt=\"Open In Colab\"/></a>"
      ]
    },
    {
      "cell_type": "code",
      "execution_count": 13,
      "metadata": {
        "id": "ImngkAPA85Jp"
      },
      "outputs": [],
      "source": [
        "import numpy as np\n",
        "import pandas as pd\n",
        "import matplotlib.pyplot as plt\n",
        "from scipy.stats import chi2_contingency"
      ]
    },
    {
      "cell_type": "markdown",
      "source": [
        "#Análise e quantifique a relação da variável survived com a variável sex usando o conjunto de dados do titanic."
      ],
      "metadata": {
        "id": "Awa5QZjU_Ets"
      }
    },
    {
      "cell_type": "markdown",
      "source": [
        "## Lendo arquivo"
      ],
      "metadata": {
        "id": "qsu7dmyT-dhD"
      }
    },
    {
      "cell_type": "code",
      "source": [
        "data = pd.read_csv('/content/drive/MyDrive/titanic.csv')\n",
        "\n",
        "data = data[['Sex', 'Survived']]\n"
      ],
      "metadata": {
        "id": "iP2cJk5L-8J_"
      },
      "execution_count": 41,
      "outputs": []
    },
    {
      "cell_type": "markdown",
      "source": [
        "### A) Monte a tabela cruzada de sex e survived"
      ],
      "metadata": {
        "id": "_Hvjw2eO-oAQ"
      }
    },
    {
      "cell_type": "code",
      "source": [
        "sex = data['Sex']\n",
        "\n",
        "survived = data['Survived']\n",
        "\n",
        "cross_table = pd.crosstab(sex,survived).reset_index()\n",
        "\n",
        "cross_table.rename(columns = {0:'Dead',1:'Alive'}, inplace = True)\n",
        "\n",
        "cross_table = cross_table.rename_axis(None, axis=1)\n",
        "\n",
        "cross_table"
      ],
      "metadata": {
        "colab": {
          "base_uri": "https://localhost:8080/",
          "height": 112
        },
        "id": "fXnTYP2nCWqX",
        "outputId": "1d396abc-9b3c-43e3-f8cd-688b176fefb9"
      },
      "execution_count": 42,
      "outputs": [
        {
          "output_type": "execute_result",
          "data": {
            "text/plain": [
              "      Sex  Dead  Alive\n",
              "0  female    81    233\n",
              "1    male   468    109"
            ],
            "text/html": [
              "\n",
              "  <div id=\"df-92783cff-1e14-43e9-bc02-7f2847464de9\">\n",
              "    <div class=\"colab-df-container\">\n",
              "      <div>\n",
              "<style scoped>\n",
              "    .dataframe tbody tr th:only-of-type {\n",
              "        vertical-align: middle;\n",
              "    }\n",
              "\n",
              "    .dataframe tbody tr th {\n",
              "        vertical-align: top;\n",
              "    }\n",
              "\n",
              "    .dataframe thead th {\n",
              "        text-align: right;\n",
              "    }\n",
              "</style>\n",
              "<table border=\"1\" class=\"dataframe\">\n",
              "  <thead>\n",
              "    <tr style=\"text-align: right;\">\n",
              "      <th></th>\n",
              "      <th>Sex</th>\n",
              "      <th>Dead</th>\n",
              "      <th>Alive</th>\n",
              "    </tr>\n",
              "  </thead>\n",
              "  <tbody>\n",
              "    <tr>\n",
              "      <th>0</th>\n",
              "      <td>female</td>\n",
              "      <td>81</td>\n",
              "      <td>233</td>\n",
              "    </tr>\n",
              "    <tr>\n",
              "      <th>1</th>\n",
              "      <td>male</td>\n",
              "      <td>468</td>\n",
              "      <td>109</td>\n",
              "    </tr>\n",
              "  </tbody>\n",
              "</table>\n",
              "</div>\n",
              "      <button class=\"colab-df-convert\" onclick=\"convertToInteractive('df-92783cff-1e14-43e9-bc02-7f2847464de9')\"\n",
              "              title=\"Convert this dataframe to an interactive table.\"\n",
              "              style=\"display:none;\">\n",
              "        \n",
              "  <svg xmlns=\"http://www.w3.org/2000/svg\" height=\"24px\"viewBox=\"0 0 24 24\"\n",
              "       width=\"24px\">\n",
              "    <path d=\"M0 0h24v24H0V0z\" fill=\"none\"/>\n",
              "    <path d=\"M18.56 5.44l.94 2.06.94-2.06 2.06-.94-2.06-.94-.94-2.06-.94 2.06-2.06.94zm-11 1L8.5 8.5l.94-2.06 2.06-.94-2.06-.94L8.5 2.5l-.94 2.06-2.06.94zm10 10l.94 2.06.94-2.06 2.06-.94-2.06-.94-.94-2.06-.94 2.06-2.06.94z\"/><path d=\"M17.41 7.96l-1.37-1.37c-.4-.4-.92-.59-1.43-.59-.52 0-1.04.2-1.43.59L10.3 9.45l-7.72 7.72c-.78.78-.78 2.05 0 2.83L4 21.41c.39.39.9.59 1.41.59.51 0 1.02-.2 1.41-.59l7.78-7.78 2.81-2.81c.8-.78.8-2.07 0-2.86zM5.41 20L4 18.59l7.72-7.72 1.47 1.35L5.41 20z\"/>\n",
              "  </svg>\n",
              "      </button>\n",
              "      \n",
              "  <style>\n",
              "    .colab-df-container {\n",
              "      display:flex;\n",
              "      flex-wrap:wrap;\n",
              "      gap: 12px;\n",
              "    }\n",
              "\n",
              "    .colab-df-convert {\n",
              "      background-color: #E8F0FE;\n",
              "      border: none;\n",
              "      border-radius: 50%;\n",
              "      cursor: pointer;\n",
              "      display: none;\n",
              "      fill: #1967D2;\n",
              "      height: 32px;\n",
              "      padding: 0 0 0 0;\n",
              "      width: 32px;\n",
              "    }\n",
              "\n",
              "    .colab-df-convert:hover {\n",
              "      background-color: #E2EBFA;\n",
              "      box-shadow: 0px 1px 2px rgba(60, 64, 67, 0.3), 0px 1px 3px 1px rgba(60, 64, 67, 0.15);\n",
              "      fill: #174EA6;\n",
              "    }\n",
              "\n",
              "    [theme=dark] .colab-df-convert {\n",
              "      background-color: #3B4455;\n",
              "      fill: #D2E3FC;\n",
              "    }\n",
              "\n",
              "    [theme=dark] .colab-df-convert:hover {\n",
              "      background-color: #434B5C;\n",
              "      box-shadow: 0px 1px 3px 1px rgba(0, 0, 0, 0.15);\n",
              "      filter: drop-shadow(0px 1px 2px rgba(0, 0, 0, 0.3));\n",
              "      fill: #FFFFFF;\n",
              "    }\n",
              "  </style>\n",
              "\n",
              "      <script>\n",
              "        const buttonEl =\n",
              "          document.querySelector('#df-92783cff-1e14-43e9-bc02-7f2847464de9 button.colab-df-convert');\n",
              "        buttonEl.style.display =\n",
              "          google.colab.kernel.accessAllowed ? 'block' : 'none';\n",
              "\n",
              "        async function convertToInteractive(key) {\n",
              "          const element = document.querySelector('#df-92783cff-1e14-43e9-bc02-7f2847464de9');\n",
              "          const dataTable =\n",
              "            await google.colab.kernel.invokeFunction('convertToInteractive',\n",
              "                                                     [key], {});\n",
              "          if (!dataTable) return;\n",
              "\n",
              "          const docLinkHtml = 'Like what you see? Visit the ' +\n",
              "            '<a target=\"_blank\" href=https://colab.research.google.com/notebooks/data_table.ipynb>data table notebook</a>'\n",
              "            + ' to learn more about interactive tables.';\n",
              "          element.innerHTML = '';\n",
              "          dataTable['output_type'] = 'display_data';\n",
              "          await google.colab.output.renderOutput(dataTable, element);\n",
              "          const docLink = document.createElement('div');\n",
              "          docLink.innerHTML = docLinkHtml;\n",
              "          element.appendChild(docLink);\n",
              "        }\n",
              "      </script>\n",
              "    </div>\n",
              "  </div>\n",
              "  "
            ]
          },
          "metadata": {},
          "execution_count": 42
        }
      ]
    },
    {
      "cell_type": "markdown",
      "source": [
        "###B) Apresente o gráfico de colunas dessa tabela cruzada"
      ],
      "metadata": {
        "id": "b-LH5xyF-y4f"
      }
    },
    {
      "cell_type": "code",
      "source": [
        "alive = list(cross_table.Alive)\n",
        "dead = list(cross_table.Dead)\n",
        "x_axis = cross_table['Sex']\n",
        "config_grafic = pd.DataFrame({'Alive': alive,'Dead': dead}, index= x_axis)\n",
        "grafic = config_grafic.plot.bar(rot=0)\n",
        "plt.grid(axis = 'y')"
      ],
      "metadata": {
        "colab": {
          "base_uri": "https://localhost:8080/",
          "height": 279
        },
        "id": "ysdhUCcMje6f",
        "outputId": "e7098a15-6369-42ac-9581-99930eace46a"
      },
      "execution_count": 25,
      "outputs": [
        {
          "output_type": "display_data",
          "data": {
            "text/plain": [
              "<Figure size 432x288 with 1 Axes>"
            ],
            "image/png": "[encoded data removed]"
          },
          "metadata": {
            "needs_background": "light"
          }
        }
      ]
    },
    {
      "cell_type": "markdown",
      "source": [
        "###C) Realize um teste qui quadrado para essas duas variáveis. Apresente as hipóteses, o valor de qui quadrado e a conclusão."
      ],
      "metadata": {
        "id": "ZYemUIALAS4X"
      }
    },
    {
      "cell_type": "code",
      "source": [
        "h0 = 'Não existe relação entre a quantidade de sobreviventes e o sexo do passageiro.'\n",
        "\n",
        "h1 = 'Existe relação entre a quantidade de sobreviventes e o sexo do passageiro.'"
      ],
      "metadata": {
        "id": "wH0V0OZslwxe"
      },
      "execution_count": 69,
      "outputs": []
    },
    {
      "cell_type": "code",
      "source": [
        "info = np.array([[81,233],[468,109]])"
      ],
      "metadata": {
        "id": "xIsJ_9OonZHB"
      },
      "execution_count": 70,
      "outputs": []
    },
    {
      "cell_type": "code",
      "source": [
        "test_χ2 = chi2_contingency(info)"
      ],
      "metadata": {
        "id": "80W7t4QwDZxh"
      },
      "execution_count": 71,
      "outputs": []
    },
    {
      "cell_type": "code",
      "source": [
        "print(f'Hipóteses:\\nH0 {h0}\\nH1 {h1}\\n')\n",
        "\n",
        "print(f'O valor do qui-quadrado(χ2) é: {round(test_χ2[0],2)}.\\n')\n",
        "\n",
        "if test_χ2[1] < 0.05: \n",
        "    print(f'Com base no teste de qui-quadrado(χ2),\\nrejeitamos o H0 e concluimos que {h1}')\n",
        "else:\n",
        "    print(f'Com base no teste de qui-quadrado(χ2),\\naceitamos o H0 e concluimos que {h0}')"
      ],
      "metadata": {
        "colab": {
          "base_uri": "https://localhost:8080/"
        },
        "id": "aCl8taY2Huyj",
        "outputId": "da815381-6f9b-4689-8e6a-a5e8fa2d288c"
      },
      "execution_count": 72,
      "outputs": [
        {
          "output_type": "stream",
          "name": "stdout",
          "text": [
            "Hipóteses:\n",
            "H0 Não existe relação entre a quantidade de sobreviventes e o sexo do passageiro.\n",
            "H1 Existe relação entre a quantidade de sobreviventes e o sexo do passageiro.\n",
            "\n",
            "O valor do qui-quadrado(χ2) é: 260.72.\n",
            "\n",
            "Com base no teste de qui-quadrado(χ2),\n",
            "rejeitamos o H0 e concluimos que Existe relação entre a quantidade de sobreviventes e o sexo do passageiro.\n"
          ]
        }
      ]
    }
  ]
}